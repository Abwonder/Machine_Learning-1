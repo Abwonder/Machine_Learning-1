{
 "cells": [
  {
   "cell_type": "markdown",
   "id": "9e2cb857",
   "metadata": {},
   "source": [
    "### Introduction to Machine Learning 1"
   ]
  },
  {
   "cell_type": "markdown",
   "id": "d0d0de98",
   "metadata": {},
   "source": [
    "### Question 1\n",
    "\n",
    "Q1. Explain the following with example:\n",
    "\n",
    "1. Artificial Intelligence\n",
    "2. Machine Learning\n",
    "3. Deep Learning\n",
    "\n",
    "\n",
    "__Answer__\n",
    "\n",
    "__Artificial Intelligence (AI)__\n",
    "\n",
    "Artificial Intelligence (AI) is the theory and development of computer systems able to perform tasks that normally require human intelligence. \n",
    "\n",
    "For example, a chess-playing computer program that can beat human players is an example of AI.\n",
    "\n",
    "__Machine Learning (ML__\n",
    "\n",
    "Machine Learning (ML) is a subset of AI that can automatically adapt with minimal human interference. It focuses on analyzing large chunks of data and learning from it2. \n",
    "\n",
    "For example, a spam filter that learns to identify spam emails based on past data is an example of ML.\n",
    "\n",
    "__Deep Learning (DL)__\n",
    "\n",
    "Deep Learning (DL) is a subset of ML that uses artificial neural networks to mimic the learning process of the human brain. It allows the computer to actually learn and differentiate and make decisions like a human2. \n",
    "\n",
    "For example, a virtual assistant like Siri or Alexa that can understand and respond to natural language is an example of DL."
   ]
  },
  {
   "cell_type": "markdown",
   "id": "436d804b",
   "metadata": {},
   "source": [
    "### Question 2\n",
    "\n",
    "Q2- What is supervised learning? List some examples of supervised learning.\n",
    "\n",
    "__Answer__\n",
    "\n",
    "Supervised learning is a type of machine learning algorithm that requires labeled data for training. \n",
    "\n",
    "Some examples of supervised learning applications include predictive analytics (house prices, stock exchange prices, etc.), text recognition, spam detection, customer sentiment analysis, and object detection (e.g. face detection)1.\n",
    "\n"
   ]
  },
  {
   "cell_type": "markdown",
   "id": "eb7fdb97",
   "metadata": {},
   "source": [
    "### Question 3\n",
    "\n",
    "3. what is unsupervised learning? List some examples of unsupervised learning.\n",
    "\n",
    "__Answer__\n",
    "\n",
    "Unsupervised learning is a type of machine learning algorithm that uses machine learning algorithms to analyze and cluster unlabeled datasets. \n",
    "\n",
    "Some examples of unsupervised learning applications include personalized recommendations, cybersecurity, customer segmentation, and applications with speech recognition."
   ]
  },
  {
   "cell_type": "markdown",
   "id": "9c7a0d6c",
   "metadata": {},
   "source": [
    "### Question 4\n",
    "\n",
    "4. What is the difference between AI, ML, DL, and  DS?\n",
    "\n",
    "__Answer__\n",
    "\n",
    "AI (Artificial Intelligence) is the theory and development of computer systems able to perform tasks that normally require human intelligence while ML (Machine Learning) is a subset of AI that can automatically adapt with minimal human interference while DL (Deep Learning) is a subset of ML that uses artificial neural networks to mimic the learning process of the human brain. \n",
    "\n",
    "DS (Data Science) is a field that covers the entire spectrum of data processing, including algorithmic and statistical aspects. It is not a part or subset of AI, ML or DL, although certain tasks involved in DS intersect with AI, ML and DL."
   ]
  },
  {
   "cell_type": "markdown",
   "id": "7ceb057d",
   "metadata": {},
   "source": [
    "### Question 5\n",
    "\n",
    "5. What are the main differences between supervised, unsupervised, and semi-supervised learning?\n",
    "\n",
    "\n",
    "__Answer__\n",
    "\n",
    "__Supervised learning__ is a machine learning approach that uses labeled datasets to train or “supervise” algorithms into classifying data or predicting outcomes accurately while __Unsupervised__ learning uses machine learning algorithms to analyze and cluster unlabeled datasets while __semi-supervised__ learning is a type of machine learning that utilizes a combination of labeled and unlabeled data to train models. It falls somewhere in between supervised learning, which uses only labeled data, and unsupervised learning, which uses only unlabeled data."
   ]
  },
  {
   "cell_type": "markdown",
   "id": "e65e9a0a",
   "metadata": {},
   "source": [
    "### Question 6\n",
    "\n",
    "6. What is train, test and validation split? Explain the importance of each term.\n",
    "\n",
    "__Answer__\n",
    "\n",
    "The training set is used to train the model and make it learn the hidden features/patterns in the data. \n",
    "\n",
    "The validation set is used to evaluate a model’s hyperparameters during training. This validation process gives information that helps us tune the model’s hyperparameters and configurations accordingly.\n",
    "\n",
    "The test set is used to evaluate the final accuracy of the model after completing the training phase1.\n",
    "\n",
    "\n",
    "__Importance__\n",
    "\n",
    "The importance of each term lies in their role in preventing overfitting and accurately evaluating the model. The training set should not be too small; else, the model will not have enough data to learn. The validation split helps to improve the model performance by fine-tuning the model after each epoch. The test set informs us about the final accuracy of the model after completing the training phase."
   ]
  },
  {
   "cell_type": "markdown",
   "id": "1df93fa9",
   "metadata": {},
   "source": [
    "### Question 7\n",
    "7. How can unsupervised learning be used in anomaly detection?\n",
    "\n",
    "__Answer__\n",
    "\n",
    "Unsupervised learning can be used for anomaly detection by identifying normal patterns within a data sample and then detecting outliers based on the natural characteristics of the data set itself. \n",
    "\n",
    "One of the most common algorithms used for this purpose is Density-Based Spatial Clustering of Applications with Noise (DBSCAN). This algorithm can group together points that are closely packed together (points with many nearby neighbors), marking as outliers points that lie alone in low-density regions.\n"
   ]
  },
  {
   "cell_type": "markdown",
   "id": "967cbb87",
   "metadata": {},
   "source": [
    "### Question 8\n",
    "8. List down some commonly used supervised learning algorithms and unsupervised learning algorithms.\n",
    "\n",
    "\n",
    "__Answer__\n",
    "\n",
    "\n",
    "Some commonly used supervised learning algorithms include:\n",
    "\n",
    "1. Linear regression \n",
    "2. Random forest \n",
    "3. Support vector machines (SVM)\n",
    "4. Decision trees \n",
    "5. k-nearest neighbors (KNN)\n",
    "6. logistic regression1. \n",
    "\n",
    "Some commonly used unsupervised learning algorithms include:\n",
    "\n",
    "1. k-means clustering \n",
    "2. hierarchical clustering\n",
    "3. DBSCAN \n",
    "4. principal component analysis (PCA)."
   ]
  },
  {
   "cell_type": "markdown",
   "id": "45d2cd02",
   "metadata": {},
   "source": [
    "### The End"
   ]
  }
 ],
 "metadata": {
  "kernelspec": {
   "display_name": "Python 3 (ipykernel)",
   "language": "python",
   "name": "python3"
  },
  "language_info": {
   "codemirror_mode": {
    "name": "ipython",
    "version": 3
   },
   "file_extension": ".py",
   "mimetype": "text/x-python",
   "name": "python",
   "nbconvert_exporter": "python",
   "pygments_lexer": "ipython3",
   "version": "3.9.12"
  }
 },
 "nbformat": 4,
 "nbformat_minor": 5
}
