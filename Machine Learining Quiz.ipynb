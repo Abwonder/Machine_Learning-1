{
 "cells": [
  {
   "cell_type": "markdown",
   "id": "baf37f19",
   "metadata": {},
   "source": [
    "### Quiz"
   ]
  },
  {
   "cell_type": "markdown",
   "id": "d02e8f69",
   "metadata": {},
   "source": [
    "1.\n",
    "\n",
    "What is the key difference between Artificial Intelligence (AI) and Machine Learning (ML)?\n",
    "\n",
    "\n",
    "ML is a subset of AI"
   ]
  },
  {
   "cell_type": "markdown",
   "id": "7202ce48",
   "metadata": {},
   "source": [
    "2.Which type of learning requires labeled data for training?\n",
    "\n",
    "\n",
    "Supervised Learning"
   ]
  },
  {
   "cell_type": "markdown",
   "id": "ac6cd74b",
   "metadata": {},
   "source": [
    "3. Which type of learning does not require labeled data for training?\n",
    "\n",
    "Unsupervised Learning"
   ]
  },
  {
   "cell_type": "markdown",
   "id": "9cfa97ec",
   "metadata": {},
   "source": [
    "4. Which type of learning uses both labeled and unlabeled data for training?\n",
    "\n",
    "\n",
    " Semi-Supervised Learning"
   ]
  },
  {
   "cell_type": "markdown",
   "id": "9ec4d34d",
   "metadata": {},
   "source": [
    "5. What is the purpose of the validation set in machine learning?\n",
    "\n",
    "\n",
    "To evaluate the machine learning model's performance during training"
   ]
  },
  {
   "cell_type": "markdown",
   "id": "2ca4deae",
   "metadata": {},
   "source": [
    "6. What is the purpose of the test set in machine learning?\n",
    "\n",
    "To evaluate the machine learning model's performance on new, unseen data"
   ]
  },
  {
   "cell_type": "markdown",
   "id": "32519ce8",
   "metadata": {},
   "source": [
    "### The End"
   ]
  }
 ],
 "metadata": {
  "kernelspec": {
   "display_name": "Python 3 (ipykernel)",
   "language": "python",
   "name": "python3"
  },
  "language_info": {
   "codemirror_mode": {
    "name": "ipython",
    "version": 3
   },
   "file_extension": ".py",
   "mimetype": "text/x-python",
   "name": "python",
   "nbconvert_exporter": "python",
   "pygments_lexer": "ipython3",
   "version": "3.9.12"
  }
 },
 "nbformat": 4,
 "nbformat_minor": 5
}
